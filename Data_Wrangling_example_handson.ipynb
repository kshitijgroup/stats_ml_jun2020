{
 "cells": [
  {
   "cell_type": "markdown",
   "metadata": {},
   "source": [
    " - # Load the dataset and add the columns Ordered product sales and Ordered product sales-B2B \n",
    " - # and convert the dateformate to Year-Month-Day\n",
    " - # Add a column Total product sales\n",
    " - # Remove any rows with total product sales as 0\n",
    " - # save the output in csv file"
   ]
  },
  {
   "cell_type": "markdown",
   "metadata": {},
   "source": [
    "#  what are the steps to achieve Point 1 ?"
   ]
  },
  {
   "cell_type": "code",
   "execution_count": 10,
   "metadata": {},
   "outputs": [],
   "source": [
    "import pandas as pd\n",
    "import datetime"
   ]
  },
  {
   "cell_type": "code",
   "execution_count": 2,
   "metadata": {},
   "outputs": [],
   "source": [
    "df = pd.read_csv(\"https://raw.githubusercontent.com/manishanker/stats_ml_jun2020/master/BusinessReport-5-15-20%20(1).csv\")"
   ]
  },
  {
   "cell_type": "code",
   "execution_count": 48,
   "metadata": {},
   "outputs": [],
   "source": [
    "df_new = df[df.columns[0:3]]"
   ]
  },
  {
   "cell_type": "code",
   "execution_count": 8,
   "metadata": {},
   "outputs": [],
   "source": [
    "# Define function to get rid of $ sign in a column\n",
    "def money_to_float(money_str):\n",
    "    \"\"\"\n",
    "        Function to take a string and replace $ with space\n",
    "    \"\"\"\n",
    "    return float(money_str.replace(\"$\", \"\"))"
   ]
  },
  {
   "cell_type": "code",
   "execution_count": 17,
   "metadata": {},
   "outputs": [],
   "source": [
    "def convert_date_format(date_str):\n",
    "    \"\"\"\n",
    "        Function to convert a date from 04/28/2020 to 2020-04-28\n",
    "    \"\"\"\n",
    "    return datetime.datetime.strptime(date_str, '%m/%d/%Y').strftime('%Y-%m-%d')"
   ]
  },
  {
   "cell_type": "code",
   "execution_count": null,
   "metadata": {},
   "outputs": [],
   "source": [
    "df_new1[\"Date\"] = pd.to_datetime(df_new1[\"Date\"])"
   ]
  },
  {
   "cell_type": "code",
   "execution_count": null,
   "metadata": {},
   "outputs": [],
   "source": [
    "df_new1[\"Date\"] = datetime.dateime.strptime(df_new1[\"Date\"].str).strftime('%Y-%m-%d')"
   ]
  },
  {
   "cell_type": "code",
   "execution_count": 18,
   "metadata": {},
   "outputs": [],
   "source": [
    "# apply remove $ sign operation on both Ordered Product Sales & Ordered Product Sales - B2B columns\n",
    "\n",
    "df_new1 = df_new.copy()\n",
    "df_new1['Ordered Product Sales'] = df_new1['Ordered Product Sales'].apply(money_to_float)\n",
    "df_new1['Ordered Product Sales - B2B'] = df_new1['Ordered Product Sales - B2B'].apply(money_to_float)"
   ]
  },
  {
   "cell_type": "code",
   "execution_count": 20,
   "metadata": {},
   "outputs": [],
   "source": [
    "# Create a new columnd Total_Product_Sales which will be the addition of two column values Ordered Product Sales & Ordered Product Sales - B2B\n",
    "df_new1['Total_Product_Sales'] = df_new1['Ordered Product Sales'] + df_new1['Ordered Product Sales - B2B'] "
   ]
  },
  {
   "cell_type": "code",
   "execution_count": 22,
   "metadata": {},
   "outputs": [],
   "source": [
    "# Using the function defined above convert the date format to the intended format\n",
    "df_new1[\"New_Date_Format\"] = df_new1['Date'].apply(convert_date_format)"
   ]
  },
  {
   "cell_type": "code",
   "execution_count": 24,
   "metadata": {},
   "outputs": [],
   "source": [
    "#Create a dummy column which holds this text \"Total Product Sales\"\n",
    "df_new1[\"Total_Sales_column\"] = \"Total Product Sales\""
   ]
  },
  {
   "cell_type": "code",
   "execution_count": 26,
   "metadata": {},
   "outputs": [],
   "source": [
    "df_final = df_new1[df_new1[\"Total_Product_Sales\"] > 0]"
   ]
  },
  {
   "cell_type": "code",
   "execution_count": 38,
   "metadata": {},
   "outputs": [],
   "source": [
    "# Select the column order as per the output and save the dataframes into a final pandas dataframe df_final\n",
    "column_order = [\"Total_Sales_column\", \"New_Date_Format\", \"Total_Product_Sales\"]\n",
    "df_final = df_final[column_order]"
   ]
  },
  {
   "cell_type": "code",
   "execution_count": 45,
   "metadata": {},
   "outputs": [],
   "source": [
    "df_final.to_csv('final.csv', index=False, header=False)"
   ]
  }
 ],
 "metadata": {
  "kernelspec": {
   "display_name": "Python 3",
   "language": "python",
   "name": "python3"
  },
  "language_info": {
   "codemirror_mode": {
    "name": "ipython",
    "version": 3
   },
   "file_extension": ".py",
   "mimetype": "text/x-python",
   "name": "python",
   "nbconvert_exporter": "python",
   "pygments_lexer": "ipython3",
   "version": "3.7.4"
  }
 },
 "nbformat": 4,
 "nbformat_minor": 4
}
